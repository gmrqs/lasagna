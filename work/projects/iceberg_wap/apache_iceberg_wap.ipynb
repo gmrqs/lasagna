{
 "cells": [
  {
   "cell_type": "markdown",
   "metadata": {},
   "source": [
    "# Apache Iceberg Write Audit Publish (or Rollback) Pattern"
   ]
  },
  {
   "cell_type": "markdown",
   "metadata": {},
   "source": [
    "## Create SparkSession"
   ]
  },
  {
   "cell_type": "code",
   "execution_count": 73,
   "metadata": {},
   "outputs": [
    {
     "data": {
      "text/html": [
       "\n",
       "            <div>\n",
       "                <p><b>SparkSession - hive</b></p>\n",
       "                \n",
       "        <div>\n",
       "            <p><b>SparkContext</b></p>\n",
       "\n",
       "            <p><a href=\"http://36deb49caa7b:4040\">Spark UI</a></p>\n",
       "\n",
       "            <dl>\n",
       "              <dt>Version</dt>\n",
       "                <dd><code>v3.5.3</code></dd>\n",
       "              <dt>Master</dt>\n",
       "                <dd><code>spark://spark-master:7077</code></dd>\n",
       "              <dt>AppName</dt>\n",
       "                <dd><code>SparkSession-Iceberg</code></dd>\n",
       "            </dl>\n",
       "        </div>\n",
       "        \n",
       "            </div>\n",
       "        "
      ],
      "text/plain": [
       "<pyspark.sql.session.SparkSession at 0x7f86d6534640>"
      ]
     },
     "execution_count": 73,
     "metadata": {},
     "output_type": "execute_result"
    }
   ],
   "source": [
    "from pyspark.sql import SparkSession\n",
    "\n",
    "spark = SparkSession.builder \\\n",
    "    .appName(\"SparkSession-Iceberg\") \\\n",
    "    .config(\"spark.jars.packages\", \"org.apache.iceberg:iceberg-spark-runtime-3.5_2.12:1.7.0\") \\\n",
    "    .config(\"spark.sql.extensions\", \"org.apache.iceberg.spark.extensions.IcebergSparkSessionExtensions\") \\\n",
    "    .config(\"spark.sql.catalog.iceberg\", \"org.apache.iceberg.spark.SparkCatalog\") \\\n",
    "    .config(\"spark.sql.catalog.iceberg.type\", \"hive\") \\\n",
    "    .config(\"spark.sql.catalog.iceberg.uri\", \"thrift://hive-metastore:9083\") \\\n",
    "    .getOrCreate()\n",
    "\n",
    "spark"
   ]
  },
  {
   "cell_type": "code",
   "execution_count": 382,
   "metadata": {},
   "outputs": [
    {
     "data": {
      "text/plain": [
       "DataFrame[]"
      ]
     },
     "execution_count": 382,
     "metadata": {},
     "output_type": "execute_result"
    }
   ],
   "source": [
    "spark.sql(\"DROP TABLE IF EXISTS iceberg.dunder_mifflin.dim_employee\")\n",
    "\n",
    "spark.sql(\"CREATE DATABASE IF NOT EXISTS dunder_mifflin\")"
   ]
  },
  {
   "cell_type": "code",
   "execution_count": 383,
   "metadata": {},
   "outputs": [
    {
     "name": "stdout",
     "output_type": "stream",
     "text": [
      "CREATE TABLE iceberg.dunder_mifflin.dim_employee (\n",
      "  employee_id INT,\n",
      "  first_name STRING,\n",
      "  last_name STRING,\n",
      "  department STRING,\n",
      "  start_date DATE,\n",
      "  end_date DATE)\n",
      "USING iceberg\n",
      "LOCATION 's3a://lasagna-workspace-bronze/dunder_mifflin/dim_employee'\n",
      "TBLPROPERTIES (\n",
      "  'current-snapshot-id' = 'none',\n",
      "  'format' = 'iceberg/parquet',\n",
      "  'format-version' = '2',\n",
      "  'write.parquet.compression-codec' = 'zstd')\n",
      "\n",
      "+-----------+----------+---------+----------+----------+--------+\n",
      "|employee_id|first_name|last_name|department|start_date|end_date|\n",
      "+-----------+----------+---------+----------+----------+--------+\n",
      "|1          |Michael   |Scott    |Management|2005-03-24|NULL    |\n",
      "|2          |Jim       |Halpert  |Sales     |2005-03-24|NULL    |\n",
      "|3          |Pam       |Beesly   |Reception |2005-03-24|NULL    |\n",
      "+-----------+----------+---------+----------+----------+--------+\n",
      "\n"
     ]
    }
   ],
   "source": [
    "spark.sql(\n",
    "\"\"\"\n",
    "CREATE TABLE IF NOT EXISTS iceberg.dunder_mifflin.dim_employee (\n",
    "    employee_id integer,\n",
    "    first_name string,\n",
    "    last_name string,\n",
    "    department string,\n",
    "    start_date date,\n",
    "    end_date date\n",
    ")\n",
    "USING iceberg\n",
    "LOCATION 's3a://lasagna-workspace-bronze/dunder_mifflin/dim_employee/'\n",
    "\"\"\"\n",
    ")\n",
    "\n",
    "print(\n",
    "    spark.sql(\n",
    "        \"SHOW CREATE TABLE iceberg.dunder_mifflin.dim_employee\"\n",
    "    ).collect()[0][\"createtab_stmt\"]\n",
    ")\n",
    "\n",
    "spark.sql(\n",
    "\"\"\"\n",
    "INSERT INTO iceberg.dunder_mifflin.dim_employee VALUES\n",
    "    (1, 'Michael', 'Scott', 'Management', DATE '2005-03-24', NULL),\n",
    "    (2, 'Jim', 'Halpert', 'Sales', DATE '2005-03-24', NULL),\n",
    "    (3, 'Pam', 'Beesly', 'Reception', DATE '2005-03-24', NULL)\n",
    "\"\"\"\n",
    ")\n",
    "\n",
    "spark.sql(\n",
    "\"\"\"\n",
    "SELECT * \n",
    "FROM iceberg.dunder_mifflin.dim_employee\n",
    "\"\"\"\n",
    ").show(truncate=False)"
   ]
  },
  {
   "cell_type": "code",
   "execution_count": 384,
   "metadata": {},
   "outputs": [
    {
     "name": "stdout",
     "output_type": "stream",
     "text": [
      "+-------------------------------+-------------------+\n",
      "|key                            |value              |\n",
      "+-------------------------------+-------------------+\n",
      "|current-snapshot-id            |6771953413010099889|\n",
      "|format                         |iceberg/parquet    |\n",
      "|format-version                 |2                  |\n",
      "|write.parquet.compression-codec|zstd               |\n",
      "|write.wap.enabled              |true               |\n",
      "+-------------------------------+-------------------+\n",
      "\n"
     ]
    }
   ],
   "source": [
    "spark.sql(\n",
    "\"\"\"\n",
    "ALTER TABLE iceberg.dunder_mifflin.dim_employee\n",
    "    SET TBLPROPERTIES ('write.wap.enabled'='true')\n",
    "\"\"\"\n",
    ")\n",
    "\n",
    "spark.sql(\n",
    "\"\"\"\n",
    "SHOW TBLPROPERTIES iceberg.dunder_mifflin.dim_employee\n",
    "\"\"\"\n",
    ").show(truncate=False)"
   ]
  },
  {
   "cell_type": "code",
   "execution_count": 385,
   "metadata": {},
   "outputs": [
    {
     "name": "stdout",
     "output_type": "stream",
     "text": [
      "+----------+------+-------------------+-----------------------+---------------------+----------------------+\n",
      "|name      |type  |snapshot_id        |max_reference_age_in_ms|min_snapshots_to_keep|max_snapshot_age_in_ms|\n",
      "+----------+------+-------------------+-----------------------+---------------------+----------------------+\n",
      "|main      |BRANCH|6771953413010099889|NULL                   |NULL                 |NULL                  |\n",
      "|audit     |BRANCH|6771953413010099889|604800000              |NULL                 |NULL                  |\n",
      "|quarantine|BRANCH|6771953413010099889|604800000              |NULL                 |NULL                  |\n",
      "+----------+------+-------------------+-----------------------+---------------------+----------------------+\n",
      "\n"
     ]
    }
   ],
   "source": [
    "spark.sql(\n",
    "\"\"\" \n",
    "ALTER TABLE iceberg.dunder_mifflin.dim_employee\n",
    "CREATE BRANCH IF NOT EXISTS `audit` RETAIN 7 DAYS\n",
    "\"\"\"\n",
    ")\n",
    "\n",
    "spark.sql(\n",
    "\"\"\" \n",
    "ALTER TABLE iceberg.dunder_mifflin.dim_employee\n",
    "CREATE BRANCH IF NOT EXISTS `quarantine` RETAIN 7 DAYS\n",
    "\"\"\"\n",
    ")\n",
    "\n",
    "spark.sql(\n",
    "\"\"\" \n",
    "SELECT * \n",
    "FROM iceberg.dunder_mifflin.dim_employee.refs\n",
    "\"\"\"\n",
    ").show(truncate=False)"
   ]
  },
  {
   "cell_type": "code",
   "execution_count": 386,
   "metadata": {},
   "outputs": [
    {
     "name": "stdout",
     "output_type": "stream",
     "text": [
      "+-----------+----------+--------------+----------+----------+--------+\n",
      "|employee_id|first_name|last_name     |department|start_date|end_date|\n",
      "+-----------+----------+--------------+----------+----------+--------+\n",
      "|1          |Michael   |Scott         |Management|2005-03-24|NULL    |\n",
      "|2          |Jim       |Halpert       |Management|2005-03-24|NULL    |\n",
      "|3          |Pam       |Beesly Halpert|Reception |2005-03-24|NULL    |\n",
      "|4          |Dwight    |Schrute       |Sales     |2005-04-26|NULL    |\n",
      "+-----------+----------+--------------+----------+----------+--------+\n",
      "\n"
     ]
    }
   ],
   "source": [
    "from pyspark.sql.types import StructType, StructField, IntegerType, StringType, DateType\n",
    "from datetime import date\n",
    "\n",
    "new_data = [\n",
    "    (1, \"Michael\", \"Scott\", \"Management\", date(2005, 3, 24), None), # Não muda nada\n",
    "    (2, \"Jim\", \"Halpert\", \"Management\", date(2005, 3, 24), None), # Mudou de área\n",
    "    (3, \"Pam\", \"Beesly Halpert\", \"Reception\", date(2005, 3, 24), None), # Mudou de nome\n",
    "    (4, \"Dwight\", \"Schrute\", \"Sales\", date(2005, 4, 26), None) # Entrou na empresA\n",
    "]\n",
    "\n",
    "schema = StructType([\n",
    "    StructField(\"employee_id\", IntegerType(), nullable=False),\n",
    "    StructField(\"first_name\", StringType(), nullable=False),\n",
    "    StructField(\"last_name\", StringType(), nullable=False),\n",
    "    StructField(\"department\", StringType(), nullable=False),\n",
    "    StructField(\"start_date\", DateType(), nullable=False),\n",
    "    StructField(\"end_date\", DateType(), nullable=True)\n",
    "])\n",
    "\n",
    "new_df = spark.createDataFrame(new_data, schema)\n",
    "\n",
    "new_df.show(truncate=False)"
   ]
  },
  {
   "cell_type": "code",
   "execution_count": 387,
   "metadata": {},
   "outputs": [
    {
     "name": "stdout",
     "output_type": "stream",
     "text": [
      "+-----------------------+-------------------+---------+---------+----------------------------------------------------------------------------------------------------------------------------------------+---------------------------------------------------------------------------------------------------------------------------------------------------------------------------------------------------------------------------------------------------------------------------------------------------------------------------------------------------------------------------------------------------------------------------------------------------------------------------------+\n",
      "|committed_at           |snapshot_id        |parent_id|operation|manifest_list                                                                                                                           |summary                                                                                                                                                                                                                                                                                                                                                                                                                                                                          |\n",
      "+-----------------------+-------------------+---------+---------+----------------------------------------------------------------------------------------------------------------------------------------+---------------------------------------------------------------------------------------------------------------------------------------------------------------------------------------------------------------------------------------------------------------------------------------------------------------------------------------------------------------------------------------------------------------------------------------------------------------------------------+\n",
      "|2024-12-18 22:05:52.732|6771953413010099889|NULL     |append   |s3a://lasagna-workspace-bronze/dunder_mifflin/dim_employee/metadata/snap-6771953413010099889-1-b2f0ba82-db63-431d-bcf6-c10d6f7c6adb.avro|{spark.app.id -> app-20241217194110-0003, added-data-files -> 3, added-records -> 3, added-files-size -> 4926, changed-partition-count -> 1, total-records -> 3, total-files-size -> 4926, total-data-files -> 3, total-delete-files -> 0, total-position-deletes -> 0, total-equality-deletes -> 0, engine-version -> 3.5.3, app-id -> app-20241217194110-0003, engine-name -> spark, iceberg-version -> Apache Iceberg 1.7.0 (commit 5f7c992ca673bf41df1d37543b24d646c24568a9)}|\n",
      "+-----------------------+-------------------+---------+---------+----------------------------------------------------------------------------------------------------------------------------------------+---------------------------------------------------------------------------------------------------------------------------------------------------------------------------------------------------------------------------------------------------------------------------------------------------------------------------------------------------------------------------------------------------------------------------------------------------------------------------------+\n",
      "\n",
      "Last snapshot: 6771953413010099889\n"
     ]
    }
   ],
   "source": [
    "spark.sql(\n",
    "\"\"\"\n",
    "SELECT * \n",
    "FROM iceberg.dunder_mifflin.dim_employee.snapshots\n",
    "\"\"\"\n",
    ").show(truncate=False)\n",
    "\n",
    "last_snapshot = spark.sql(\n",
    "\"\"\"\n",
    "SELECT * \n",
    "FROM iceberg.dunder_mifflin.dim_employee.snapshots\n",
    "\"\"\"\n",
    ").collect()[-1]['snapshot_id']\n",
    "\n",
    "print(f\"Last snapshot: {last_snapshot}\")"
   ]
  },
  {
   "cell_type": "code",
   "execution_count": 388,
   "metadata": {},
   "outputs": [
    {
     "data": {
      "text/plain": [
       "DataFrame[]"
      ]
     },
     "execution_count": 388,
     "metadata": {},
     "output_type": "execute_result"
    }
   ],
   "source": [
    "spark.conf.set(\"spark.wap.branch\", \"audit\")\n",
    "\n",
    "new_df.createOrReplaceTempView(\"new_dataframe\")\n",
    "\n",
    "spark.sql(\n",
    "\"\"\"\n",
    "MERGE INTO iceberg.dunder_mifflin.dim_employee AS OLD\n",
    "USING new_dataframe AS NEW\n",
    "ON OLD.employee_id = NEW.employee_id AND OLD.end_date IS NULL\n",
    "WHEN MATCHED AND (\n",
    "    NEW.first_name IS NOT NULL AND (\n",
    "        OLD.first_name != NEW.first_name \n",
    "        OR OLD.last_name != NEW.last_name \n",
    "        OR OLD.department != NEW.department\n",
    "        )\n",
    "    ) THEN \n",
    "    UPDATE SET end_date = CURRENT_DATE()\n",
    "\"\"\"\n",
    ")\n",
    "\n",
    "spark.sql(\n",
    "\"\"\"\n",
    "MERGE INTO iceberg.dunder_mifflin.dim_employee AS OLD\n",
    "USING new_dataframe AS NEW\n",
    "ON OLD.employee_id = NEW.employee_id AND OLD.end_date IS NULL\n",
    "WHEN NOT MATCHED THEN\n",
    "    INSERT (employee_id, first_name, last_name, department, start_date, end_date)\n",
    "    VALUES (NEW.employee_id, NEW.first_name, NEW.last_name, NEW.department, CURRENT_DATE(), NULL)\n",
    "\n",
    "\"\"\"\n",
    ")"
   ]
  },
  {
   "cell_type": "code",
   "execution_count": 389,
   "metadata": {},
   "outputs": [
    {
     "name": "stdout",
     "output_type": "stream",
     "text": [
      "branch :: [audit]\n",
      "+-----------+----------+--------------+----------+----------+----------+\n",
      "|employee_id|first_name|     last_name|department|start_date|  end_date|\n",
      "+-----------+----------+--------------+----------+----------+----------+\n",
      "|          1|   Michael|         Scott|Management|2005-03-24|      NULL|\n",
      "|          3|       Pam|        Beesly| Reception|2005-03-24|2024-12-18|\n",
      "|          2|       Jim|       Halpert|     Sales|2005-03-24|2024-12-18|\n",
      "|          2|       Jim|       Halpert|Management|2024-12-18|      NULL|\n",
      "|          3|       Pam|Beesly Halpert| Reception|2024-12-18|      NULL|\n",
      "|          4|    Dwight|       Schrute|     Sales|2024-12-18|      NULL|\n",
      "+-----------+----------+--------------+----------+----------+----------+\n",
      "\n",
      "branch :: [main]\n",
      "+-----------+----------+---------+----------+----------+--------+\n",
      "|employee_id|first_name|last_name|department|start_date|end_date|\n",
      "+-----------+----------+---------+----------+----------+--------+\n",
      "|          1|   Michael|    Scott|Management|2005-03-24|    NULL|\n",
      "|          2|       Jim|  Halpert|     Sales|2005-03-24|    NULL|\n",
      "|          3|       Pam|   Beesly| Reception|2005-03-24|    NULL|\n",
      "+-----------+----------+---------+----------+----------+--------+\n",
      "\n",
      "branch :: [quarantine]\n",
      "+-----------+----------+---------+----------+----------+--------+\n",
      "|employee_id|first_name|last_name|department|start_date|end_date|\n",
      "+-----------+----------+---------+----------+----------+--------+\n",
      "|          1|   Michael|    Scott|Management|2005-03-24|    NULL|\n",
      "|          2|       Jim|  Halpert|     Sales|2005-03-24|    NULL|\n",
      "|          3|       Pam|   Beesly| Reception|2005-03-24|    NULL|\n",
      "+-----------+----------+---------+----------+----------+--------+\n",
      "\n"
     ]
    }
   ],
   "source": [
    "# spark.read.option(\"BRANCH\", \"audit\").format(\"iceberg\").load(\"iceberg.dunder_mifflin.dim_employee\").show()\n",
    "\n",
    "print(\"branch :: [audit]\")\n",
    "spark.sql(\n",
    "\"\"\"\n",
    "SELECT *\n",
    "FROM iceberg.dunder_mifflin.dim_employee\n",
    "FOR VERSION AS OF 'audit'\n",
    "\"\"\"\n",
    ").show()\n",
    "\n",
    "\n",
    "# spark.read.option(\"BRANCH\", \"audit\").format(\"iceberg\").load(\"iceberg.dunder_mifflin.dim_employee\").show()\n",
    "\n",
    "print(\"branch :: [main]\")\n",
    "spark.sql(\n",
    "\"\"\"\n",
    "SELECT *\n",
    "FROM iceberg.dunder_mifflin.dim_employee\n",
    "FOR VERSION AS OF 'main'\n",
    "\"\"\"\n",
    ").show()\n",
    "\n",
    "# spark.read.option(\"BRANCH\", \"quarantine\").format(\"iceberg\").load(\"iceberg.dunder_mifflin.dim_employee\").show()\n",
    "\n",
    "print(\"branch :: [quarantine]\")\n",
    "spark.sql(\n",
    "\"\"\"\n",
    "SELECT *\n",
    "FROM iceberg.dunder_mifflin.dim_employee\n",
    "FOR VERSION AS OF 'quarantine'\n",
    "\"\"\"\n",
    ").show()"
   ]
  },
  {
   "cell_type": "code",
   "execution_count": 374,
   "metadata": {},
   "outputs": [
    {
     "name": "stdout",
     "output_type": "stream",
     "text": [
      "+--------------+-------------------+-------------------+\n",
      "|branch_updated|       previous_ref|        updated_ref|\n",
      "+--------------+-------------------+-------------------+\n",
      "|          main|6102912137278375588|4248769185782717426|\n",
      "+--------------+-------------------+-------------------+\n",
      "\n",
      "branch :: [audit]\n",
      "+-----------+----------+--------------+----------+----------+----------+\n",
      "|employee_id|first_name|     last_name|department|start_date|  end_date|\n",
      "+-----------+----------+--------------+----------+----------+----------+\n",
      "|          2|       Jim|       Halpert|Management|2024-12-18|      NULL|\n",
      "|          3|       Pam|Beesly Halpert| Reception|2024-12-18|      NULL|\n",
      "|          4|    Dwight|       Schrute|     Sales|2024-12-18|      NULL|\n",
      "|          1|   Michael|         Scott|Management|2005-03-24|      NULL|\n",
      "|          3|       Pam|        Beesly| Reception|2005-03-24|2024-12-18|\n",
      "|          2|       Jim|       Halpert|     Sales|2005-03-24|2024-12-18|\n",
      "+-----------+----------+--------------+----------+----------+----------+\n",
      "\n",
      "branch :: [main]\n",
      "+-----------+----------+--------------+----------+----------+----------+\n",
      "|employee_id|first_name|     last_name|department|start_date|  end_date|\n",
      "+-----------+----------+--------------+----------+----------+----------+\n",
      "|          2|       Jim|       Halpert|Management|2024-12-18|      NULL|\n",
      "|          3|       Pam|Beesly Halpert| Reception|2024-12-18|      NULL|\n",
      "|          4|    Dwight|       Schrute|     Sales|2024-12-18|      NULL|\n",
      "|          1|   Michael|         Scott|Management|2005-03-24|      NULL|\n",
      "|          3|       Pam|        Beesly| Reception|2005-03-24|2024-12-18|\n",
      "|          2|       Jim|       Halpert|     Sales|2005-03-24|2024-12-18|\n",
      "+-----------+----------+--------------+----------+----------+----------+\n",
      "\n",
      "branch :: [quarantine]\n",
      "+-----------+----------+---------+----------+----------+--------+\n",
      "|employee_id|first_name|last_name|department|start_date|end_date|\n",
      "+-----------+----------+---------+----------+----------+--------+\n",
      "|          1|   Michael|    Scott|Management|2005-03-24|    NULL|\n",
      "|          2|       Jim|  Halpert|     Sales|2005-03-24|    NULL|\n",
      "|          3|       Pam|   Beesly| Reception|2005-03-24|    NULL|\n",
      "+-----------+----------+---------+----------+----------+--------+\n",
      "\n"
     ]
    }
   ],
   "source": [
    "is_good_quality = True\n",
    "\n",
    "if is_good_quality:\n",
    "    branch_to_merge = \"main\"\n",
    "elif not is_good_quality:\n",
    "    branch_to_merge = \"quarantine\"\n",
    "    \n",
    "\n",
    "spark.sql(f\"\"\"\n",
    "CALL iceberg.system.fast_forward(\n",
    "    'iceberg.dunder_mifflin.dim_employee',\n",
    "    '{branch_to_merge}',\n",
    "    'audit'\n",
    ")\n",
    "\"\"\").show()\n",
    "\n",
    "\n",
    "print(\"branch :: [audit]\")\n",
    "spark.sql(\n",
    "\"\"\"\n",
    "SELECT *\n",
    "FROM iceberg.dunder_mifflin.dim_employee\n",
    "FOR VERSION AS OF 'audit'\n",
    "\"\"\"\n",
    ").show()\n",
    "\n",
    "\n",
    "print(\"branch :: [main]\")\n",
    "spark.sql(\n",
    "\"\"\"\n",
    "SELECT *\n",
    "FROM iceberg.dunder_mifflin.dim_employee\n",
    "FOR VERSION AS OF 'main'\n",
    "\"\"\"\n",
    ").show()\n",
    "\n",
    "\n",
    "print(\"branch :: [quarantine]\")\n",
    "spark.sql(\n",
    "\"\"\"\n",
    "SELECT *\n",
    "FROM iceberg.dunder_mifflin.dim_employee\n",
    "FOR VERSION AS OF 'quarantine'\n",
    "\"\"\"\n",
    ").show()\n"
   ]
  },
  {
   "cell_type": "code",
   "execution_count": 375,
   "metadata": {},
   "outputs": [
    {
     "name": "stdout",
     "output_type": "stream",
     "text": [
      "+-----------------------+-------------------+-------------------+---------+----------------------------------------------------------------------------------------------------------------------------------------+------------------------------------------------------------------------------------------------------------------------------------------------------------------------------------------------------------------------------------------------------------------------------------------------------------------------------------------------------------------------------------------------------------------------------------------------------------------------------------------------------------------------------------------------------------+\n",
      "|committed_at           |snapshot_id        |parent_id          |operation|manifest_list                                                                                                                           |summary                                                                                                                                                                                                                                                                                                                                                                                                                                                                                                                                                     |\n",
      "+-----------------------+-------------------+-------------------+---------+----------------------------------------------------------------------------------------------------------------------------------------+------------------------------------------------------------------------------------------------------------------------------------------------------------------------------------------------------------------------------------------------------------------------------------------------------------------------------------------------------------------------------------------------------------------------------------------------------------------------------------------------------------------------------------------------------------+\n",
      "|2024-12-18 21:25:22.724|6102912137278375588|NULL               |append   |s3a://lasagna-workspace-bronze/dunder_mifflin/dim_employee/metadata/snap-6102912137278375588-1-351e4405-c5b9-4345-bb46-6b0f030106d6.avro|{spark.app.id -> app-20241217194110-0003, added-data-files -> 3, added-records -> 3, added-files-size -> 4926, changed-partition-count -> 1, total-records -> 3, total-files-size -> 4926, total-data-files -> 3, total-delete-files -> 0, total-position-deletes -> 0, total-equality-deletes -> 0, engine-version -> 3.5.3, app-id -> app-20241217194110-0003, engine-name -> spark, iceberg-version -> Apache Iceberg 1.7.0 (commit 5f7c992ca673bf41df1d37543b24d646c24568a9)}                                                                           |\n",
      "|2024-12-18 21:26:08.339|6318101716745908871|6102912137278375588|overwrite|s3a://lasagna-workspace-bronze/dunder_mifflin/dim_employee/metadata/snap-6318101716745908871-1-3cdd7663-951b-495b-bc70-06c16d3e537b.avro|{spark.app.id -> app-20241217194110-0003, added-data-files -> 1, deleted-data-files -> 3, added-records -> 3, deleted-records -> 3, added-files-size -> 1815, removed-files-size -> 4926, changed-partition-count -> 1, total-records -> 3, total-files-size -> 1815, total-data-files -> 1, total-delete-files -> 0, total-position-deletes -> 0, total-equality-deletes -> 0, engine-version -> 3.5.3, app-id -> app-20241217194110-0003, engine-name -> spark, iceberg-version -> Apache Iceberg 1.7.0 (commit 5f7c992ca673bf41df1d37543b24d646c24568a9)}|\n",
      "|2024-12-18 21:26:09.182|4248769185782717426|6318101716745908871|append   |s3a://lasagna-workspace-bronze/dunder_mifflin/dim_employee/metadata/snap-4248769185782717426-1-feb672f7-09ff-4449-a9d1-7c67220baae3.avro|{spark.app.id -> app-20241217194110-0003, added-data-files -> 3, added-records -> 3, added-files-size -> 4992, changed-partition-count -> 1, total-records -> 6, total-files-size -> 6807, total-data-files -> 4, total-delete-files -> 0, total-position-deletes -> 0, total-equality-deletes -> 0, engine-version -> 3.5.3, app-id -> app-20241217194110-0003, engine-name -> spark, iceberg-version -> Apache Iceberg 1.7.0 (commit 5f7c992ca673bf41df1d37543b24d646c24568a9)}                                                                           |\n",
      "+-----------------------+-------------------+-------------------+---------+----------------------------------------------------------------------------------------------------------------------------------------+------------------------------------------------------------------------------------------------------------------------------------------------------------------------------------------------------------------------------------------------------------------------------------------------------------------------------------------------------------------------------------------------------------------------------------------------------------------------------------------------------------------------------------------------------------+\n",
      "\n"
     ]
    }
   ],
   "source": [
    "spark.sql(\n",
    "\"\"\" \n",
    "SELECT * \n",
    "FROM iceberg.dunder_mifflin.dim_employee.snapshots\n",
    "\"\"\"\n",
    ").show(truncate=False)"
   ]
  },
  {
   "cell_type": "code",
   "execution_count": 376,
   "metadata": {},
   "outputs": [
    {
     "name": "stdout",
     "output_type": "stream",
     "text": [
      "+--------------------+-------------------+\n",
      "|previous_snapshot_id|current_snapshot_id|\n",
      "+--------------------+-------------------+\n",
      "|4248769185782717426 |6102912137278375588|\n",
      "+--------------------+-------------------+\n",
      "\n",
      "+--------------+-------------------+-------------------+\n",
      "|branch_updated|       previous_ref|        updated_ref|\n",
      "+--------------+-------------------+-------------------+\n",
      "|    quarantine|6102912137278375588|4248769185782717426|\n",
      "+--------------+-------------------+-------------------+\n",
      "\n",
      "branch :: [audit]\n",
      "+-----------+----------+--------------+----------+----------+----------+\n",
      "|employee_id|first_name|     last_name|department|start_date|  end_date|\n",
      "+-----------+----------+--------------+----------+----------+----------+\n",
      "|          1|   Michael|         Scott|Management|2005-03-24|      NULL|\n",
      "|          3|       Pam|        Beesly| Reception|2005-03-24|2024-12-18|\n",
      "|          2|       Jim|       Halpert|     Sales|2005-03-24|2024-12-18|\n",
      "|          2|       Jim|       Halpert|Management|2024-12-18|      NULL|\n",
      "|          3|       Pam|Beesly Halpert| Reception|2024-12-18|      NULL|\n",
      "|          4|    Dwight|       Schrute|     Sales|2024-12-18|      NULL|\n",
      "+-----------+----------+--------------+----------+----------+----------+\n",
      "\n",
      "branch :: [main]\n",
      "+-----------+----------+---------+----------+----------+--------+\n",
      "|employee_id|first_name|last_name|department|start_date|end_date|\n",
      "+-----------+----------+---------+----------+----------+--------+\n",
      "|          1|   Michael|    Scott|Management|2005-03-24|    NULL|\n",
      "|          2|       Jim|  Halpert|     Sales|2005-03-24|    NULL|\n",
      "|          3|       Pam|   Beesly| Reception|2005-03-24|    NULL|\n",
      "+-----------+----------+---------+----------+----------+--------+\n",
      "\n",
      "branch :: [quarantine]\n",
      "+-----------+----------+--------------+----------+----------+----------+\n",
      "|employee_id|first_name|     last_name|department|start_date|  end_date|\n",
      "+-----------+----------+--------------+----------+----------+----------+\n",
      "|          2|       Jim|       Halpert|Management|2024-12-18|      NULL|\n",
      "|          3|       Pam|Beesly Halpert| Reception|2024-12-18|      NULL|\n",
      "|          4|    Dwight|       Schrute|     Sales|2024-12-18|      NULL|\n",
      "|          1|   Michael|         Scott|Management|2005-03-24|      NULL|\n",
      "|          3|       Pam|        Beesly| Reception|2005-03-24|2024-12-18|\n",
      "|          2|       Jim|       Halpert|     Sales|2005-03-24|2024-12-18|\n",
      "+-----------+----------+--------------+----------+----------+----------+\n",
      "\n"
     ]
    }
   ],
   "source": [
    "spark.sql(\n",
    "f\"\"\"\n",
    "CALL iceberg.system.rollback_to_snapshot(\n",
    "    'iceberg.dunder_mifflin.dim_employee',\n",
    "    {last_snapshot}\n",
    ")\n",
    "\"\"\"\n",
    ").show(truncate=False)\n",
    "\n",
    "\n",
    "is_good_quality = False\n",
    "\n",
    "if is_good_quality:\n",
    "    branch_to_merge = \"main\"\n",
    "elif not is_good_quality:\n",
    "    branch_to_merge = \"quarantine\"\n",
    "    \n",
    "\n",
    "spark.sql(f\"\"\"\n",
    "CALL iceberg.system.fast_forward(\n",
    "    'iceberg.dunder_mifflin.dim_employee',\n",
    "    '{branch_to_merge}',\n",
    "    'audit'\n",
    ")\n",
    "\"\"\").show()\n",
    "\n",
    "\n",
    "print(\"branch :: [audit]\")\n",
    "spark.sql(\n",
    "\"\"\"\n",
    "SELECT *\n",
    "FROM iceberg.dunder_mifflin.dim_employee\n",
    "FOR VERSION AS OF 'audit'\n",
    "\"\"\"\n",
    ").show()\n",
    "\n",
    "\n",
    "print(\"branch :: [main]\")\n",
    "spark.sql(\n",
    "\"\"\"\n",
    "SELECT *\n",
    "FROM iceberg.dunder_mifflin.dim_employee\n",
    "FOR VERSION AS OF 'main'\n",
    "\"\"\"\n",
    ").show()\n",
    "\n",
    "\n",
    "print(\"branch :: [quarantine]\")\n",
    "spark.sql(\n",
    "\"\"\"\n",
    "SELECT *\n",
    "FROM iceberg.dunder_mifflin.dim_employee\n",
    "FOR VERSION AS OF 'quarantine'\n",
    "\"\"\"\n",
    ").show()"
   ]
  },
  {
   "cell_type": "code",
   "execution_count": 380,
   "metadata": {},
   "outputs": [
    {
     "name": "stdout",
     "output_type": "stream",
     "text": [
      "+-----------------------+-------------------+-------------------+-------------------+\n",
      "|made_current_at        |snapshot_id        |parent_id          |is_current_ancestor|\n",
      "+-----------------------+-------------------+-------------------+-------------------+\n",
      "|2024-12-18 21:25:22.724|6102912137278375588|NULL               |true               |\n",
      "|2024-12-18 21:26:20.958|4248769185782717426|6318101716745908871|false              |\n",
      "|2024-12-18 21:27:48.943|6102912137278375588|NULL               |true               |\n",
      "+-----------------------+-------------------+-------------------+-------------------+\n",
      "\n"
     ]
    }
   ],
   "source": [
    "spark.sql(\n",
    "\"\"\" \n",
    "SELECT * \n",
    "FROM iceberg.dunder_mifflin.dim_employee.history\n",
    "\"\"\"\n",
    ").show(truncate=False)"
   ]
  }
 ],
 "metadata": {
  "kernelspec": {
   "display_name": "PySpark (Iceberg)",
   "language": "python",
   "name": "pyspark_iceberg"
  }
 },
 "nbformat": 4,
 "nbformat_minor": 2
}
